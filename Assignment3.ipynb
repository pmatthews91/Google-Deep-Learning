{
 "cells": [
  {
   "cell_type": "code",
   "execution_count": 1,
   "metadata": {
    "collapsed": true,
    "deletable": true,
    "editable": true
   },
   "outputs": [],
   "source": [
    "# These are all the modules we'll be using later. Make sure you can import them\n",
    "# before proceeding further.\n",
    "from __future__ import print_function\n",
    "import numpy as np\n",
    "import tensorflow as tf\n",
    "from six.moves import cPickle as pickle"
   ]
  },
  {
   "cell_type": "code",
   "execution_count": 2,
   "metadata": {
    "collapsed": false,
    "deletable": true,
    "editable": true
   },
   "outputs": [
    {
     "name": "stdout",
     "output_type": "stream",
     "text": [
      "Training set (100000, 28, 28) (100000,)\n",
      "Validation set (5000, 28, 28) (5000,)\n",
      "Test set (5000, 28, 28) (5000,)\n"
     ]
    }
   ],
   "source": [
    "\n",
    "pickle_file = 'notMNIST.pickle'\n",
    "\n",
    "with open(pickle_file, 'rb') as f:\n",
    "  save = pickle.load(f)\n",
    "  train_dataset = save['train_dataset']\n",
    "  train_labels = save['train_labels']\n",
    "  valid_dataset = save['valid_dataset']\n",
    "  valid_labels = save['valid_labels']\n",
    "  test_dataset = save['test_dataset']\n",
    "  test_labels = save['test_labels']\n",
    "  del save  # hint to help gc free up memory\n",
    "  print('Training set', train_dataset.shape, train_labels.shape)\n",
    "  print('Validation set', valid_dataset.shape, valid_labels.shape)\n",
    "  print('Test set', test_dataset.shape, test_labels.shape)\n",
    "\n"
   ]
  },
  {
   "cell_type": "code",
   "execution_count": 3,
   "metadata": {
    "collapsed": false,
    "deletable": true,
    "editable": true
   },
   "outputs": [
    {
     "name": "stdout",
     "output_type": "stream",
     "text": [
      "Training set (100000, 784) (100000, 10)\n",
      "Validation set (5000, 784) (5000, 10)\n",
      "Test set (5000, 784) (5000, 10)\n"
     ]
    }
   ],
   "source": [
    "image_size = 28\n",
    "num_labels = 10\n",
    "\n",
    "def reformat(dataset, labels):\n",
    "  dataset = dataset.reshape((-1, image_size * image_size)).astype(np.float32)\n",
    "  # Map 1 to [0.0, 1.0, 0.0 ...], 2 to [0.0, 0.0, 1.0 ...]\n",
    "  labels = (np.arange(num_labels) == labels[:,None]).astype(np.float32)\n",
    "  return dataset, labels\n",
    "train_dataset, train_labels = reformat(train_dataset, train_labels)\n",
    "valid_dataset, valid_labels = reformat(valid_dataset, valid_labels)\n",
    "test_dataset, test_labels = reformat(test_dataset, test_labels)\n",
    "print('Training set', train_dataset.shape, train_labels.shape)\n",
    "print('Validation set', valid_dataset.shape, valid_labels.shape)\n",
    "print('Test set', test_dataset.shape, test_labels.shape)"
   ]
  },
  {
   "cell_type": "code",
   "execution_count": 4,
   "metadata": {
    "collapsed": true,
    "deletable": true,
    "editable": true
   },
   "outputs": [],
   "source": [
    "def accuracy(predictions, labels):\n",
    "  return (100.0 * np.sum(np.argmax(predictions, 1) == np.argmax(labels, 1))\n",
    "          / predictions.shape[0])\n"
   ]
  },
  {
   "cell_type": "code",
   "execution_count": 31,
   "metadata": {
    "collapsed": false,
    "deletable": true,
    "editable": true
   },
   "outputs": [],
   "source": [
    "\n",
    "batch_size = 128\n",
    "hidden_layer_size1 = 1024\n",
    "hidden_layer_size2 = 300\n",
    "beta = 0.0\n",
    "dropout_probability = 0.5\n",
    "initial_learning_rate = 0.001\n",
    "\n",
    "#num_zeroes = int(hidden_layer_size/2)\n",
    "#halfzeroes = np.concatenate((np.ones(hidden_layer_size - num_zeroes)*2,np.zeros(num_zeroes)))\n",
    "\n",
    "graph = tf.Graph()\n",
    "with graph.as_default():\n",
    "\n",
    "  # Input data. For the training data, we use a placeholder that will be fed\n",
    "  # at run time with a training minibatch.\n",
    "  tf_train_dataset = tf.placeholder(tf.float32,\n",
    "                                    shape=(batch_size, image_size * image_size))\n",
    "  tf_train_labels = tf.placeholder(tf.float32, shape=(batch_size, num_labels))\n",
    "  tf_valid_dataset = tf.constant(valid_dataset)\n",
    "  tf_test_dataset = tf.constant(test_dataset)\n",
    "  \n",
    "  # Variables.\n",
    "  weights1 = tf.Variable(\n",
    "    tf.truncated_normal([image_size * image_size, hidden_layer_size1], stddev = 1.0))\n",
    "  biases1 = tf.Variable(tf.zeros([hidden_layer_size1]))\n",
    "    \n",
    "  weights2 = tf.Variable(\n",
    "    tf.truncated_normal([hidden_layer_size1, hidden_layer_size2], stddev = 1.0))\n",
    "  biases2 = tf.Variable(tf.zeros([hidden_layer_size2]))\n",
    "    \n",
    "  weights3 = tf.Variable(\n",
    "    tf.truncated_normal([hidden_layer_size2, num_labels], stddev = 1.0))\n",
    "  biases3 = tf.Variable(tf.zeros([num_labels]))\n",
    "  \n",
    "  # Training computation.\n",
    "  def forward_prop(dataset, bDropout):\n",
    "    logits1 = tf.matmul(dataset, weights1) + biases1\n",
    "    relu1 = tf.nn.relu(logits1)\n",
    "    if bDropout:\n",
    "        relu1 = tf.nn.dropout(relu1, dropout_probability)\n",
    "    logits2 = tf.matmul(relu1, weights2) + biases2\n",
    "    relu2 = tf.nn.relu(logits2)\n",
    "    if bDropout:\n",
    "        relu2 = tf.nn.dropout(relu2, dropout_probability)\n",
    "    logits3 = tf.matmul(relu2, weights3) + biases3\n",
    "    return logits3\n",
    "    \n",
    "  logits = forward_prop(tf_train_dataset, True)\n",
    "    \n",
    "  loss = tf.reduce_mean(\n",
    "    tf.nn.softmax_cross_entropy_with_logits(labels=tf_train_labels, logits=logits))+\\\n",
    "        beta * (tf.nn.l2_loss(weights1) + tf.nn.l2_loss(weights2) + tf.nn.l2_loss(weights3))\n",
    "  \n",
    "  # Optimizer\n",
    "  #global_step = tf.Variable(0)  # count the number of steps taken.\n",
    "  #learning_rate = tf.train.exponential_decay(0.05, global_step, 100000, 0.8)\n",
    "  #optimizer = tf.train.GradientDescentOptimizer(learning_rate).minimize(loss, global_step=global_step)\n",
    "  optimizer = tf.train.AdagradOptimizer(initial_learning_rate).minimize(loss)\n",
    "  #optimizer = tf.train.GradientDescentOptimizer(initial_learning_rate).minimize(loss)\n",
    "  \n",
    "  # Predictions for the training, validation, and test data.\n",
    "  train_prediction = tf.nn.softmax(forward_prop(tf_train_dataset, False))\n",
    "  valid_prediction = tf.nn.softmax(forward_prop(tf_valid_dataset, False))\n",
    "  test_prediction = tf.nn.softmax(forward_prop(tf_test_dataset, False))"
   ]
  },
  {
   "cell_type": "code",
   "execution_count": 32,
   "metadata": {
    "collapsed": false,
    "deletable": true,
    "editable": true
   },
   "outputs": [
    {
     "name": "stdout",
     "output_type": "stream",
     "text": [
      "Initialized\n",
      "Minibatch loss at step 0: 8883.989258\n",
      "Minibatch accuracy: 3.9%\n",
      "Validation accuracy: 7.8%\n",
      "Minibatch loss at step 500: 3391.974121\n",
      "Minibatch accuracy: 59.4%\n",
      "Validation accuracy: 51.6%\n",
      "Minibatch loss at step 1000: 3098.852539\n",
      "Minibatch accuracy: 60.2%\n",
      "Validation accuracy: 60.4%\n",
      "Minibatch loss at step 1500: 2888.838379\n",
      "Minibatch accuracy: 52.3%\n",
      "Validation accuracy: 65.1%\n",
      "Minibatch loss at step 2000: 2463.663086\n",
      "Minibatch accuracy: 72.7%\n",
      "Validation accuracy: 67.6%\n",
      "Minibatch loss at step 2500: 2344.093506\n",
      "Minibatch accuracy: 68.0%\n",
      "Validation accuracy: 69.1%\n",
      "Minibatch loss at step 3000: 2473.082031\n",
      "Minibatch accuracy: 71.1%\n",
      "Validation accuracy: 70.2%\n",
      "Minibatch loss at step 3500: 2233.912598\n",
      "Minibatch accuracy: 71.1%\n",
      "Validation accuracy: 71.0%\n",
      "Minibatch loss at step 4000: 1763.178345\n",
      "Minibatch accuracy: 74.2%\n",
      "Validation accuracy: 71.6%\n",
      "Minibatch loss at step 4500: 1842.671997\n",
      "Minibatch accuracy: 74.2%\n",
      "Validation accuracy: 72.4%\n",
      "Minibatch loss at step 5000: 1669.142578\n",
      "Minibatch accuracy: 77.3%\n",
      "Validation accuracy: 73.1%\n",
      "Minibatch loss at step 5500: 1842.637817\n",
      "Minibatch accuracy: 72.7%\n",
      "Validation accuracy: 73.6%\n",
      "Minibatch loss at step 6000: 2021.224243\n",
      "Minibatch accuracy: 69.5%\n",
      "Validation accuracy: 74.0%\n",
      "Minibatch loss at step 6500: 1603.301636\n",
      "Minibatch accuracy: 76.6%\n",
      "Validation accuracy: 74.3%\n",
      "Minibatch loss at step 7000: 1755.542480\n",
      "Minibatch accuracy: 70.3%\n",
      "Validation accuracy: 74.5%\n",
      "Minibatch loss at step 7500: 1462.834595\n",
      "Minibatch accuracy: 74.2%\n",
      "Validation accuracy: 74.6%\n",
      "Minibatch loss at step 8000: 2049.639648\n",
      "Minibatch accuracy: 67.2%\n",
      "Validation accuracy: 74.8%\n",
      "Minibatch loss at step 8500: 1769.060059\n",
      "Minibatch accuracy: 76.6%\n",
      "Validation accuracy: 75.0%\n",
      "Minibatch loss at step 9000: 1522.923828\n",
      "Minibatch accuracy: 77.3%\n",
      "Validation accuracy: 75.2%\n",
      "Minibatch loss at step 9500: 1802.803223\n",
      "Minibatch accuracy: 76.6%\n",
      "Validation accuracy: 75.3%\n",
      "Minibatch loss at step 10000: 1416.853760\n",
      "Minibatch accuracy: 76.6%\n",
      "Validation accuracy: 75.5%\n",
      "Test accuracy: 84.2%\n"
     ]
    }
   ],
   "source": [
    "num_steps = 10001\n",
    "\n",
    "new_train_dataset = train_dataset\n",
    "new_train_labels = train_labels\n",
    "\n",
    "with tf.Session(graph=graph) as session:\n",
    "  tf.global_variables_initializer().run()\n",
    "  print(\"Initialized\")\n",
    "  for step in range(num_steps):\n",
    "    # Pick an offset within the training data, which has been randomized.\n",
    "    # Note: we could use better randomization across epochs.\n",
    "    offset = (step * batch_size) % (new_train_labels.shape[0] - batch_size)\n",
    "    # Generate a minibatch.\n",
    "    batch_data = new_train_dataset[offset:(offset + batch_size), :]\n",
    "    batch_labels = new_train_labels[offset:(offset + batch_size), :]\n",
    "    # Prepare a dictionary telling the session where to feed the minibatch.\n",
    "    # The key of the dictionary is the placeholder node of the graph to be fed,\n",
    "    # and the value is the numpy array to feed to it.\n",
    "    feed_dict = {tf_train_dataset : batch_data, tf_train_labels : batch_labels}\n",
    "    _, l, predictions = session.run(\n",
    "      [optimizer, loss, train_prediction], feed_dict=feed_dict)\n",
    "    if (step % 500 == 0):\n",
    "      print(\"Minibatch loss at step %d: %f\" % (step, l))\n",
    "      print(\"Minibatch accuracy: %.1f%%\" % accuracy(predictions, batch_labels))\n",
    "      print(\"Validation accuracy: %.1f%%\" % accuracy(\n",
    "        valid_prediction.eval(), valid_labels))\n",
    "  print(\"Test accuracy: %.1f%%\" % accuracy(test_prediction.eval(), test_labels))"
   ]
  }
 ],
 "metadata": {
  "kernelspec": {
   "display_name": "Python 3",
   "language": "python",
   "name": "python3"
  },
  "language_info": {
   "codemirror_mode": {
    "name": "ipython",
    "version": 3
   },
   "file_extension": ".py",
   "mimetype": "text/x-python",
   "name": "python",
   "nbconvert_exporter": "python",
   "pygments_lexer": "ipython3",
   "version": "3.5.1"
  }
 },
 "nbformat": 4,
 "nbformat_minor": 2
}
